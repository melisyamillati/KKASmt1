{
  "nbformat": 4,
  "nbformat_minor": 0,
  "metadata": {
    "colab": {
      "provenance": [],
      "authorship_tag": "ABX9TyOM5aUdgLEQ0WFjxevRF3fe",
      "include_colab_link": true
    },
    "kernelspec": {
      "name": "python3",
      "display_name": "Python 3"
    },
    "language_info": {
      "name": "python"
    }
  },
  "cells": [
    {
      "cell_type": "markdown",
      "metadata": {
        "id": "view-in-github",
        "colab_type": "text"
      },
      "source": [
        "<a href=\"https://colab.research.google.com/github/melisyamillati/KKASmt1/blob/main/1_Fungsi_Print_Melisya_Millati_Azka_XI_1.ipynb\" target=\"_parent\"><img src=\"https://colab.research.google.com/assets/colab-badge.svg\" alt=\"Open In Colab\"/></a>"
      ]
    },
    {
      "cell_type": "code",
      "execution_count": null,
      "metadata": {
        "colab": {
          "base_uri": "https://localhost:8080/"
        },
        "id": "Tk9vKp8JBvxU",
        "outputId": "947ee7b3-3b69-4b07-b830-2ca72857f85e"
      },
      "outputs": [
        {
          "output_type": "stream",
          "name": "stdout",
          "text": [
            "Harga telur per 1 kg adalah 26000\n"
          ]
        }
      ],
      "source": [
        "harga_telur = 26000\n",
        "\n",
        "\n",
        "print (\"Harga telur per 1 kg adalah\", harga_telur)"
      ]
    },
    {
      "cell_type": "markdown",
      "source": [],
      "metadata": {
        "id": "5QFythwpCza9"
      }
    },
    {
      "cell_type": "code",
      "source": [
        "harga_telur = 26000\n",
        "\n",
        "print (\"harga telur per 1 kg adalah \" + str(harga_telur))"
      ],
      "metadata": {
        "colab": {
          "base_uri": "https://localhost:8080/"
        },
        "id": "q3AqaJczDKIs",
        "outputId": "6846031b-d7d9-462c-cdf4-c5c1e3d409ad"
      },
      "execution_count": null,
      "outputs": [
        {
          "output_type": "stream",
          "name": "stdout",
          "text": [
            "harga telur per 1 kg adalah 26000\n"
          ]
        }
      ]
    },
    {
      "cell_type": "markdown",
      "source": [],
      "metadata": {
        "id": "uq-3alDvEtlf"
      }
    },
    {
      "cell_type": "code",
      "source": [
        "nama_pembeli = \"Melisya\"\n",
        "\n",
        "print(\"Nama pembeli telur adalah \" + nama_pembeli)"
      ],
      "metadata": {
        "colab": {
          "base_uri": "https://localhost:8080/"
        },
        "id": "pa3LysX-ERvQ",
        "outputId": "5f8f00f3-1a6c-415d-d89e-48ac5b19485c"
      },
      "execution_count": null,
      "outputs": [
        {
          "output_type": "stream",
          "name": "stdout",
          "text": [
            "Nama pembeli telur adalah Melisya\n"
          ]
        }
      ]
    },
    {
      "cell_type": "markdown",
      "source": [
        "Latihan soal\n",
        "\n",
        "1. Tampilkan teks bebas: Hari ini saya bahagia belajar bahasa python\n",
        "2. Tampilkan nilai variabel: mata_pelajaran_favorit = Kode dan Kecerdasan Buatan\n",
        "3. Tampilkan nilai variabel nilai_kka = 100\n",
        "4. Tampilkan teks bebas dan nilai variabel dengan tiga metode (f string,\"+\",\",\"): \"nilai KKA saya adalah {nilai_kka}loh!"
      ],
      "metadata": {
        "id": "eP0RqTqPGuCI"
      }
    },
    {
      "cell_type": "markdown",
      "source": [],
      "metadata": {
        "id": "2jKXpXDB0e_E"
      }
    },
    {
      "cell_type": "code",
      "source": [
        "print(\"Hari ini saya bahagia belajar bahasa python\")"
      ],
      "metadata": {
        "colab": {
          "base_uri": "https://localhost:8080/"
        },
        "id": "RdRX1BzLF5qY",
        "outputId": "88150891-5357-4c63-f5f5-98808b7a1a38"
      },
      "execution_count": null,
      "outputs": [
        {
          "output_type": "stream",
          "name": "stdout",
          "text": [
            "Hari ini saya bahagia belajar bahasa python\n"
          ]
        }
      ]
    },
    {
      "cell_type": "code",
      "source": [
        "mata_pelajaran_favorit =\"Kode dan Kecerdasan Buatan\"\n",
        "\n",
        "print(mata_pelajaran_favorit)"
      ],
      "metadata": {
        "colab": {
          "base_uri": "https://localhost:8080/"
        },
        "id": "1RzAS-s1Gg-4",
        "outputId": "367a972b-4721-4502-f230-2380c1d92ba6"
      },
      "execution_count": null,
      "outputs": [
        {
          "output_type": "stream",
          "name": "stdout",
          "text": [
            "Kode dan Kecerdasan Buatan\n"
          ]
        }
      ]
    },
    {
      "cell_type": "code",
      "source": [
        "nilai_kka = 100\n",
        "\n",
        "print(nilai_kka)"
      ],
      "metadata": {
        "colab": {
          "base_uri": "https://localhost:8080/"
        },
        "id": "BBtU6JtPJQRT",
        "outputId": "737727a5-aad7-48a1-f560-aafad2d46b67"
      },
      "execution_count": null,
      "outputs": [
        {
          "output_type": "stream",
          "name": "stdout",
          "text": [
            "100\n"
          ]
        }
      ]
    },
    {
      "cell_type": "code",
      "source": [
        "nilai_kka = 100\n",
        "\n",
        "print(f\"Nilai KKA saya adalah {nilai_kka} loh!\")"
      ],
      "metadata": {
        "colab": {
          "base_uri": "https://localhost:8080/"
        },
        "id": "FTkVqhEgK6VB",
        "outputId": "be84606a-a451-40e8-f2bf-abe23678d35f"
      },
      "execution_count": null,
      "outputs": [
        {
          "output_type": "stream",
          "name": "stdout",
          "text": [
            "Nilai KKA saya adalah 100 loh!\n"
          ]
        }
      ]
    },
    {
      "cell_type": "code",
      "source": [
        "nilai_kka = 100\n",
        "\n",
        "print(\" Nilai KKA saya adalah \" + str (nilai_kka) + \" loh! \")"
      ],
      "metadata": {
        "colab": {
          "base_uri": "https://localhost:8080/"
        },
        "id": "JqHJfEvENH_c",
        "outputId": "b0ebc80b-0d6d-4474-a344-4943a0964413"
      },
      "execution_count": null,
      "outputs": [
        {
          "output_type": "stream",
          "name": "stdout",
          "text": [
            " Nilai KKA saya adalah 100 loh! \n"
          ]
        }
      ]
    },
    {
      "cell_type": "code",
      "source": [
        "nilai_kka = 100\n",
        "\n",
        "print(\" Nilai KKA saya adalah\",nilai_kka, \"loh!\")"
      ],
      "metadata": {
        "colab": {
          "base_uri": "https://localhost:8080/"
        },
        "id": "xLRLk4NBQ_pY",
        "outputId": "a3fd6234-2d16-495a-c5c9-f655b280da53"
      },
      "execution_count": null,
      "outputs": [
        {
          "output_type": "stream",
          "name": "stdout",
          "text": [
            " Nilai KKA saya adalah 100 loh!\n"
          ]
        }
      ]
    },
    {
      "cell_type": "markdown",
      "source": [
        "#Escape Character"
      ],
      "metadata": {
        "id": "3ExtxcfUJGX_"
      }
    },
    {
      "cell_type": "code",
      "source": [
        "print(\"Nama: Melisya Millati Azka\")\n",
        "print(\"Kelas: XI.1\")\n",
        "print(\"Nomor absen: 25\")"
      ],
      "metadata": {
        "colab": {
          "base_uri": "https://localhost:8080/"
        },
        "id": "1swK9fCAJcWw",
        "outputId": "6261c1be-84c5-4739-8761-544f17c72a24"
      },
      "execution_count": null,
      "outputs": [
        {
          "output_type": "stream",
          "name": "stdout",
          "text": [
            "Nama: Melisya Millati Azka\n",
            "Kelas: XI.1\n",
            "Nomor absen: 25\n"
          ]
        }
      ]
    },
    {
      "cell_type": "code",
      "source": [
        "print(\"Nama\\t\\t: Melisya Millati Azka\\nKelas\\t\\t: XI.1\\nNomor absen\\t: 25\")"
      ],
      "metadata": {
        "colab": {
          "base_uri": "https://localhost:8080/"
        },
        "id": "cRHoGewyKWYi",
        "outputId": "b946ebc1-d9dc-4d42-f247-f3f925c03397"
      },
      "execution_count": null,
      "outputs": [
        {
          "output_type": "stream",
          "name": "stdout",
          "text": [
            "Nama\t\t: Melisya Millati Azka\n",
            "Kelas\t\t: XI.1\n",
            "Nomor absen\t: 25\n"
          ]
        }
      ]
    },
    {
      "cell_type": "code",
      "source": [
        "print(\"\"\"Nama: Melisya Millati Azka\n",
        "Kelas:XI.1\n",
        "Nomor absen: 25\"\"\")"
      ],
      "metadata": {
        "colab": {
          "base_uri": "https://localhost:8080/"
        },
        "id": "gt4gfjxlLE9k",
        "outputId": "037febc5-8252-4bed-8815-590aa7768122"
      },
      "execution_count": null,
      "outputs": [
        {
          "output_type": "stream",
          "name": "stdout",
          "text": [
            "Nama: Melisya Millati Azka \n",
            "Kelas:XI.1\n",
            "Nomor absen: 25\n"
          ]
        }
      ]
    },
    {
      "cell_type": "code",
      "source": [
        "print(\"Ja'far Shodiq\")\n"
      ],
      "metadata": {
        "colab": {
          "base_uri": "https://localhost:8080/"
        },
        "id": "b5FVxWQ_DbIh",
        "outputId": "e19e0eb3-a44f-452c-d8d2-0b6e633e675f"
      },
      "execution_count": null,
      "outputs": [
        {
          "output_type": "stream",
          "name": "stdout",
          "text": [
            "Ja'far Shodiq\n"
          ]
        }
      ]
    },
    {
      "cell_type": "code",
      "source": [
        "print('Ja\\'far Shodiq')"
      ],
      "metadata": {
        "colab": {
          "base_uri": "https://localhost:8080/"
        },
        "id": "H7Gt9zfpDCqn",
        "outputId": "b1ca2bdc-ce05-4751-de9a-54a7a4c77cab"
      },
      "execution_count": null,
      "outputs": [
        {
          "output_type": "stream",
          "name": "stdout",
          "text": [
            "Ja'far Shodiq\n"
          ]
        }
      ]
    },
    {
      "cell_type": "code",
      "source": [
        "print(\"Bu Shinta berkata, \\\"Semua harus menyimak pelajaran, \\\"\")"
      ],
      "metadata": {
        "colab": {
          "base_uri": "https://localhost:8080/"
        },
        "id": "HC7APaJiDiu4",
        "outputId": "41be55ff-ec8f-44fc-9896-5aa6869436db"
      },
      "execution_count": null,
      "outputs": [
        {
          "output_type": "stream",
          "name": "stdout",
          "text": [
            "Bu Shinta berkata, \"Semua harus menyimak pelajaran, \"\n"
          ]
        }
      ]
    },
    {
      "cell_type": "code",
      "source": [
        "print('Bu Shinta berkata, \"Semua harus menyimak pelajaran,\"')\n"
      ],
      "metadata": {
        "colab": {
          "base_uri": "https://localhost:8080/"
        },
        "id": "UqEWfLuqD35d",
        "outputId": "e9169f36-f4d5-4145-823b-2edd9b89206c"
      },
      "execution_count": null,
      "outputs": [
        {
          "output_type": "stream",
          "name": "stdout",
          "text": [
            "Bu Shinta berkata, \"Semua harus menyimak pelajaran,\"\n"
          ]
        }
      ]
    },
    {
      "cell_type": "code",
      "source": [
        "print (\"Lokasi file video karnaval ada di D:\\\\Karnaval 2025\\\\mp4\")"
      ],
      "metadata": {
        "colab": {
          "base_uri": "https://localhost:8080/"
        },
        "id": "P2pnaq38EBxW",
        "outputId": "3ee655c8-70b8-4cba-bc10-3def661fc979"
      },
      "execution_count": null,
      "outputs": [
        {
          "output_type": "stream",
          "name": "stdout",
          "text": [
            "Lokasi file video karnaval ada di D:\\Karnaval 2025\\mp4\n"
          ]
        }
      ]
    },
    {
      "cell_type": "markdown",
      "source": [
        "#Rabu, 13 Agustus 2025"
      ],
      "metadata": {
        "id": "0CBBJPX8Tasz"
      }
    },
    {
      "cell_type": "code",
      "source": [
        "print(\"Halo dunia!\")\n",
        "print('Selamat datang di Python')"
      ],
      "metadata": {
        "colab": {
          "base_uri": "https://localhost:8080/"
        },
        "id": "InwWOcZ0SjMb",
        "outputId": "ac14f60b-8e06-4abf-e96a-637f58d7eafc"
      },
      "execution_count": null,
      "outputs": [
        {
          "output_type": "stream",
          "name": "stdout",
          "text": [
            "Halo dunia!\n",
            "Selamat datang di Python\n"
          ]
        }
      ]
    },
    {
      "cell_type": "markdown",
      "source": [
        "#Menampilkan Teks Bebas"
      ],
      "metadata": {
        "id": "YEnRFI-SUdgO"
      }
    },
    {
      "cell_type": "code",
      "source": [
        "print(\"Belajar python itu menyenangkan!\")"
      ],
      "metadata": {
        "colab": {
          "base_uri": "https://localhost:8080/"
        },
        "id": "REVJTk65UznY",
        "outputId": "deef0cf2-5822-4e6e-91d7-52fa86949e6a"
      },
      "execution_count": null,
      "outputs": [
        {
          "output_type": "stream",
          "name": "stdout",
          "text": [
            "Belajar python itu menyenangkan!\n"
          ]
        }
      ]
    },
    {
      "cell_type": "code",
      "source": [
        "nama = \"Melisya\"\n",
        "print(nama)"
      ],
      "metadata": {
        "colab": {
          "base_uri": "https://localhost:8080/"
        },
        "id": "NNX5YUmeVNc0",
        "outputId": "b8fd41db-4080-485b-b88b-2007ff5d1630"
      },
      "execution_count": null,
      "outputs": [
        {
          "output_type": "stream",
          "name": "stdout",
          "text": [
            "Melisya\n"
          ]
        }
      ]
    },
    {
      "cell_type": "markdown",
      "source": [
        "#Menampilkan Teks Bebas dan Nilai Variabel"
      ],
      "metadata": {
        "id": "XfS2MCwLCMLC"
      }
    },
    {
      "cell_type": "code",
      "source": [
        "umur = 16\n",
        "print(f\"umur saya {umur} tahun\")"
      ],
      "metadata": {
        "id": "_10Pu1ISB6cw",
        "colab": {
          "base_uri": "https://localhost:8080/"
        },
        "outputId": "322fa144-36ac-4db3-d2d4-bf11e5de1f7e"
      },
      "execution_count": null,
      "outputs": [
        {
          "output_type": "stream",
          "name": "stdout",
          "text": [
            "umur saya 16 tahun\n"
          ]
        }
      ]
    },
    {
      "cell_type": "code",
      "source": [
        "nama = \"Melisya\"\n",
        "print(\"halo \" +nama)"
      ],
      "metadata": {
        "colab": {
          "base_uri": "https://localhost:8080/"
        },
        "id": "e7NGd24IWAqk",
        "outputId": "041b558f-0bda-4756-f760-f39105367d1d"
      },
      "execution_count": null,
      "outputs": [
        {
          "output_type": "stream",
          "name": "stdout",
          "text": [
            "halo Melisya\n"
          ]
        }
      ]
    },
    {
      "cell_type": "code",
      "source": [
        "umur = 16\n",
        "print (\"umur saya\",umur, \"tahun\")"
      ],
      "metadata": {
        "colab": {
          "base_uri": "https://localhost:8080/"
        },
        "id": "G8gEHYYCWbKi",
        "outputId": "6ae7a997-4213-4061-c62b-43b0d9c770c0"
      },
      "execution_count": null,
      "outputs": [
        {
          "output_type": "stream",
          "name": "stdout",
          "text": [
            "umur saya 16 tahun\n"
          ]
        }
      ]
    },
    {
      "cell_type": "code",
      "source": [
        "umur = 16\n",
        "print(\"umur saya \" + str(umur) + \" tahun\")"
      ],
      "metadata": {
        "colab": {
          "base_uri": "https://localhost:8080/"
        },
        "id": "oqN1TfRJXJXc",
        "outputId": "9af8fb90-04a8-43fa-ba6e-bd91bdf358a7"
      },
      "execution_count": null,
      "outputs": [
        {
          "output_type": "stream",
          "name": "stdout",
          "text": [
            "umur saya 16 tahun\n"
          ]
        }
      ]
    },
    {
      "cell_type": "markdown",
      "source": [
        "#Menampilkan Nilai Variabel"
      ],
      "metadata": {
        "id": "1y_EecIXp2Sq"
      }
    },
    {
      "cell_type": "code",
      "source": [
        "BB = 55\n",
        "print(BB)"
      ],
      "metadata": {
        "colab": {
          "base_uri": "https://localhost:8080/"
        },
        "id": "0TdIR28Yaa3F",
        "outputId": "3124dab5-602a-4e71-b172-fd4bafec13e7"
      },
      "execution_count": null,
      "outputs": [
        {
          "output_type": "stream",
          "name": "stdout",
          "text": [
            "55\n"
          ]
        }
      ]
    },
    {
      "cell_type": "code",
      "source": [
        "TB = 158\n",
        "print(TB)"
      ],
      "metadata": {
        "colab": {
          "base_uri": "https://localhost:8080/"
        },
        "id": "KBXD683hau2V",
        "outputId": "977ebb06-01ba-461d-de54-36814dbd7c62"
      },
      "execution_count": null,
      "outputs": [
        {
          "output_type": "stream",
          "name": "stdout",
          "text": [
            "158\n"
          ]
        }
      ]
    },
    {
      "cell_type": "markdown",
      "source": [
        "#Menampilkan Teks Sederhana"
      ],
      "metadata": {
        "id": "Wsq8n7Zkfq69"
      }
    },
    {
      "cell_type": "code",
      "source": [],
      "metadata": {
        "id": "1Ujm5Y3ofolG"
      },
      "execution_count": null,
      "outputs": []
    },
    {
      "cell_type": "code",
      "source": [
        "print(\"Saya sedang belajar Python\")"
      ],
      "metadata": {
        "colab": {
          "base_uri": "https://localhost:8080/"
        },
        "id": "VOt64lfSed0I",
        "outputId": "aeb24490-4d0b-481b-b817-4fa7720e1d83"
      },
      "execution_count": null,
      "outputs": [
        {
          "output_type": "stream",
          "name": "stdout",
          "text": [
            "Saya sedang belajar Python\n"
          ]
        }
      ]
    },
    {
      "cell_type": "markdown",
      "source": [
        "#Parameter Fungsi Print"
      ],
      "metadata": {
        "id": "z0qB5SVNG1lt"
      }
    },
    {
      "cell_type": "code",
      "source": [
        "Tahun = 2009\n",
        "Bulan = \"Juli\"\n",
        "Tanggal =6\n",
        "\n",
        "print(Tanggal, end=\" \")\n",
        "print(Bulan, end=\" \")\n",
        "print(Tahun)"
      ],
      "metadata": {
        "colab": {
          "base_uri": "https://localhost:8080/"
        },
        "id": "j89gYr74GzRE",
        "outputId": "64e65650-e321-4f00-db90-fec7c9253389"
      },
      "execution_count": null,
      "outputs": [
        {
          "output_type": "stream",
          "name": "stdout",
          "text": [
            "6 Juli 2009\n"
          ]
        }
      ]
    },
    {
      "cell_type": "code",
      "source": [
        "Tahun = 2009\n",
        "Bulan = \"Juli\"\n",
        "Tanggal =6\n",
        "\n",
        "print(Tanggal, Bulan, Tahun, sep=\"/\")"
      ],
      "metadata": {
        "colab": {
          "base_uri": "https://localhost:8080/"
        },
        "id": "Zb0UMAW8G_U_",
        "outputId": "abc59b74-6493-447d-a822-7dbfce806c6e"
      },
      "execution_count": null,
      "outputs": [
        {
          "output_type": "stream",
          "name": "stdout",
          "text": [
            "6/Juli/2009\n"
          ]
        }
      ]
    },
    {
      "cell_type": "markdown",
      "source": [
        "Latihan:\n",
        "\n",
        "Tanggal-Bulan-Tahun"
      ],
      "metadata": {
        "id": "ymxPAi1TJABo"
      }
    },
    {
      "cell_type": "code",
      "source": [
        "Tanggal: 6\n",
        "Bulan: \"Juli\"\n",
        "Tahun: 2009\n",
        "\n",
        "print(Tanggal, Bulan, Tahun, sep=\"-\" )"
      ],
      "metadata": {
        "colab": {
          "base_uri": "https://localhost:8080/"
        },
        "id": "jPLj15vyG-fm",
        "outputId": "c826dcf9-3eea-41b2-88c0-f54346d2b110"
      },
      "execution_count": null,
      "outputs": [
        {
          "output_type": "stream",
          "name": "stdout",
          "text": [
            "6-Juli-2009\n"
          ]
        }
      ]
    },
    {
      "cell_type": "code",
      "source": [
        "Nama_depan = \"Melisya\"\n",
        "Nama_belakang = \"Azka\"\n",
        "\n",
        "print(Nama_depan, Nama_belakang)"
      ],
      "metadata": {
        "colab": {
          "base_uri": "https://localhost:8080/"
        },
        "id": "Geqy8vEAG9Tn",
        "outputId": "1e34d950-4927-4cc8-de12-a941d2c2b4e0"
      },
      "execution_count": null,
      "outputs": [
        {
          "output_type": "stream",
          "name": "stdout",
          "text": [
            "Melisya Azka\n"
          ]
        }
      ]
    },
    {
      "cell_type": "code",
      "source": [
        "Nama_depan = \"Melisya\"\n",
        "Nama_belakang = \"Azka\"\n",
        "\n",
        "print(Nama_depan, end=\" \")\n",
        "print(Nama_belakang)"
      ],
      "metadata": {
        "colab": {
          "base_uri": "https://localhost:8080/"
        },
        "id": "fi8iyiLeKJN1",
        "outputId": "3723f1ab-a4db-475f-f3ca-b90f44c72877"
      },
      "execution_count": null,
      "outputs": [
        {
          "output_type": "stream",
          "name": "stdout",
          "text": [
            "Melisya Azka\n"
          ]
        }
      ]
    },
    {
      "cell_type": "markdown",
      "source": [
        "Latihan:"
      ],
      "metadata": {
        "id": "Wgpf9g_3L5Sa"
      }
    },
    {
      "cell_type": "code",
      "source": [
        "print ('Bu Shinta berkata, \"berikut adalah judul pelajaran hari senin selasa rabu silakan disimpan di laptop masing-masing di folder local disk D:\\\\Jadwal Pelajaran\\\\Kelas XI Semester 1')\n",
        "print (\"\\njadwal pelajaran mingguan\")\n",
        "print (\"=============================\")\n",
        "print (\"jam\\tsenin\\t\\tselasa\\t\\trabu\")\n",
        "print (\"jam 1\\tmatematika\\tbahasa\\t\\tinformatika\")\n",
        "print (\"jam 2\\tbahasa ingr.\\tsejarah\\t\\tma'rifatullah\")\n",
        "print (\"jam 3\\tinformatika\\tolahraga\\tbiologi\")"
      ],
      "metadata": {
        "colab": {
          "base_uri": "https://localhost:8080/"
        },
        "id": "XSd-ADWzOmAz",
        "outputId": "9f412340-396e-47d3-c578-2971a6064d5c"
      },
      "execution_count": null,
      "outputs": [
        {
          "output_type": "stream",
          "name": "stdout",
          "text": [
            "Bu Shinta berkata, \"berikut adalah judul pelajaran hari senin selasa rabu silakan disimpan di laptop masing-masing di folder local disk D:\\Jadwal Pelajaran\\Kelas XI Semester 1\n",
            "\n",
            "jadwal pelajaran mingguan\n",
            "=============================\n",
            "jam\tsenin\t\tselasa\t\trabu\n",
            "jam 1\tmatematika\tbahasa\t\tinformatika\n",
            "jam 2\tbahasa ingr.\tsejarah\t\tma'rifatullah\n",
            "jam 3\tinformatika\tolahraga\tbiologi\n"
          ]
        }
      ]
    },
    {
      "cell_type": "markdown",
      "source": [],
      "metadata": {
        "id": "uP5JfA-uFMaW"
      }
    },
    {
      "cell_type": "code",
      "source": [
        "nama_siswa_1 = \"Naufal\"\n",
        "nama_siswa_2 = \"Favian\"\n",
        "nama_siswa_3 = \"Humaira\"\n",
        "nama_siswa_4 = \"Favian\"\n",
        "\n",
        "print(nama_siswa_1, nama_siswa_2, nama_siswa_3, nama_siswa_4, sep=\"~\")"
      ],
      "metadata": {
        "colab": {
          "base_uri": "https://localhost:8080/"
        },
        "id": "aZieHjf0FYpp",
        "outputId": "94d66e73-f5cf-42c2-dee5-a7b1150bda3c"
      },
      "execution_count": null,
      "outputs": [
        {
          "output_type": "stream",
          "name": "stdout",
          "text": [
            "Naufal~Favian~Humaira~Favian\n"
          ]
        }
      ]
    },
    {
      "cell_type": "code",
      "source": [
        "print(nama_siswa_2, end=\"~\")\n",
        "print(nama_siswa_1)\n",
        "print(nama_siswa_3, end=\"~\")\n",
        "print(nama_siswa_1)"
      ],
      "metadata": {
        "colab": {
          "base_uri": "https://localhost:8080/"
        },
        "id": "SBoWvFi8HAdE",
        "outputId": "ae149dce-87fa-4308-ba41-1880bf22aaad"
      },
      "execution_count": null,
      "outputs": [
        {
          "output_type": "stream",
          "name": "stdout",
          "text": [
            "Favian~Naufal\n",
            "Humaira~Naufal\n"
          ]
        }
      ]
    },
    {
      "cell_type": "markdown",
      "source": [],
      "metadata": {
        "id": "hcV1zRJyGxoh"
      }
    }
  ]
}