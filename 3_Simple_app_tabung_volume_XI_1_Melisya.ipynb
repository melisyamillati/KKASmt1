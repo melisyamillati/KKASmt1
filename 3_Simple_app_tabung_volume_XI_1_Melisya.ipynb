{
  "nbformat": 4,
  "nbformat_minor": 0,
  "metadata": {
    "colab": {
      "provenance": [],
      "authorship_tag": "ABX9TyNgN2uxNWAORDudSf57a21O",
      "include_colab_link": true
    },
    "kernelspec": {
      "name": "python3",
      "display_name": "Python 3"
    },
    "language_info": {
      "name": "python"
    }
  },
  "cells": [
    {
      "cell_type": "markdown",
      "metadata": {
        "id": "view-in-github",
        "colab_type": "text"
      },
      "source": [
        "<a href=\"https://colab.research.google.com/github/melisyamillati/KKASmt1/blob/main/3_Simple_app_tabung_volume_XI_1_Melisya.ipynb\" target=\"_parent\"><img src=\"https://colab.research.google.com/assets/colab-badge.svg\" alt=\"Open In Colab\"/></a>"
      ]
    },
    {
      "cell_type": "markdown",
      "source": [
        "Nama: Melisya Millati Azka\n",
        "\n",
        "Kelas: XI.1\n",
        "\n",
        "No absen: 25\n",
        "\n",
        "Nama kelompok: Coldplay\n"
      ],
      "metadata": {
        "id": "6HqgG7rDhyig"
      }
    },
    {
      "cell_type": "markdown",
      "source": [
        "#Aplikasi Sederhana Menghitung Volume"
      ],
      "metadata": {
        "id": "ntCyyeHagQvv"
      }
    },
    {
      "cell_type": "code",
      "execution_count": 2,
      "metadata": {
        "colab": {
          "base_uri": "https://localhost:8080/"
        },
        "id": "O_u7ccvUcuno",
        "outputId": "ba610814-246b-47bc-f1d8-d17705b0b02d"
      },
      "outputs": [
        {
          "output_type": "stream",
          "name": "stdout",
          "text": [
            "silakan masukkan jari jari tabung: 10\n",
            "silakan masukkan tinggi tabung: 20\n",
            "volume tabung adalah 6280.0 cm^3\n"
          ]
        }
      ],
      "source": [
        "jari_jari_tabung = float(input(\"silakan masukkan jari jari tabung: \"))\n",
        "tinggi_tabung = float(input(\"silakan masukkan tinggi tabung: \"))\n",
        "phi = 3.14\n",
        "\n",
        "volume_tabung = phi * jari_jari_tabung**2 * tinggi_tabung\n",
        "\n",
        "print(f\"volume tabung adalah {volume_tabung} cm^3\")\n"
      ]
    }
  ]
}